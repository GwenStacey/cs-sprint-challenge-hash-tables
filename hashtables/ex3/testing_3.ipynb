{
 "cells": [
  {
   "cell_type": "code",
   "execution_count": 1,
   "metadata": {},
   "outputs": [],
   "source": [
    "def intersection(arrays):\n",
    "    \"\"\"\n",
    "    YOUR CODE HERE\n",
    "    \"\"\"\n",
    "    array_dict = {}\n",
    "    for i in range(len(arrays)):\n",
    "        array_dict[i] = arrays[i]\n",
    "\n",
    "    return array_dict"
   ]
  },
  {
   "cell_type": "code",
   "execution_count": 2,
   "metadata": {},
   "outputs": [
    {
     "output_type": "execute_result",
     "data": {
      "text/plain": "{0: [1, 2, 3], 1: [1, 4, 5], 2: [1, 6, 7]}"
     },
     "metadata": {},
     "execution_count": 2
    }
   ],
   "source": [
    "result = intersection([\n",
    "            [1,2,3],\n",
    "            [1,4,5],\n",
    "            [1,6,7]\n",
    "        ])\n",
    "result"
   ]
  },
  {
   "cell_type": "code",
   "execution_count": 12,
   "metadata": {
    "tags": []
   },
   "outputs": [
    {
     "output_type": "stream",
     "name": "stdout",
     "text": "[1, 2, 3]\n[1, 4, 5]\n[1, 6, 7]\n"
    }
   ],
   "source": []
  },
  {
   "cell_type": "code",
   "execution_count": 9,
   "metadata": {},
   "outputs": [
    {
     "output_type": "execute_result",
     "data": {
      "text/plain": "[3, 1, 4, 5, 1, 6, 7]"
     },
     "metadata": {},
     "execution_count": 9
    }
   ],
   "source": []
  },
  {
   "cell_type": "code",
   "execution_count": null,
   "metadata": {},
   "outputs": [],
   "source": []
  }
 ],
 "metadata": {
  "language_info": {
   "codemirror_mode": {
    "name": "ipython",
    "version": 3
   },
   "file_extension": ".py",
   "mimetype": "text/x-python",
   "name": "python",
   "nbconvert_exporter": "python",
   "pygments_lexer": "ipython3",
   "version": "3.8.3-final"
  },
  "orig_nbformat": 2,
  "kernelspec": {
   "name": "python38364bitdbscanconda3c063c28050f423687c8f43e10e0df7b",
   "display_name": "Python 3.8.3 64-bit ('DBScan': conda)"
  }
 },
 "nbformat": 4,
 "nbformat_minor": 2
}