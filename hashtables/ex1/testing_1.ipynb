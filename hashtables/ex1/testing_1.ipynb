{
 "cells": [
  {
   "cell_type": "code",
   "execution_count": 25,
   "metadata": {},
   "outputs": [],
   "source": [
    "\n",
    "def get_indices_of_item_weights(weights, length, limit):\n",
    "    \"\"\"\n",
    "    YOUR CODE HERE\n",
    "    \"\"\"\n",
    "    weights_indices = {}\n",
    "    for i in range(length):\n",
    "        if weights[i] not in weights_indices.keys():\n",
    "            weights_indices[weights[i]] = [i]\n",
    "        else:\n",
    "            weights_indices[weights[i]].append(i)\n",
    "    for i in weights_indices.keys():\n",
    "        if limit-i in weights_indices.keys():\n",
    "            if len(weights_indices[i]) > 1:\n",
    "                if weights_indices[i][0]>weights_indices[i][1]:\n",
    "                    return (weights_indices[i][0][0], weights_indices[i][1][0])\n",
    "                else:\n",
    "                    return (weights_indices[i][1], weights_indices[i][0])\n",
    "            if weights_indices[i] > weights_indices[limit-i]:\n",
    "                return (weights_indices[i], weights_indices[limit-i])\n",
    "            else:\n",
    "                return (weights_indices[limit-i], weights_indices[i])\n",
    "\n",
    "    \n",
    "\n",
    "    return None"
   ]
  },
  {
   "cell_type": "code",
   "execution_count": 23,
   "metadata": {},
   "outputs": [
    {
     "output_type": "execute_result",
     "data": {
      "text/plain": "(1, 0)"
     },
     "metadata": {},
     "execution_count": 23
    }
   ],
   "source": [
    "weights_2 = [4, 4]\n",
    "answer_2 = get_indices_of_item_weights(weights_2, 2, 8)\n",
    "answer_2"
   ]
  },
  {
   "cell_type": "code",
   "execution_count": 26,
   "metadata": {},
   "outputs": [
    {
     "output_type": "execute_result",
     "data": {
      "text/plain": "([3], [1])"
     },
     "metadata": {},
     "execution_count": 26
    }
   ],
   "source": [
    "weights_3 = [4, 6, 10, 15, 16]\n",
    "answer_3 = get_indices_of_item_weights(weights_3, 5, 21)\n",
    "answer_3"
   ]
  },
  {
   "cell_type": "code",
   "execution_count": null,
   "metadata": {},
   "outputs": [],
   "source": []
  }
 ],
 "metadata": {
  "language_info": {
   "codemirror_mode": {
    "name": "ipython",
    "version": 3
   },
   "file_extension": ".py",
   "mimetype": "text/x-python",
   "name": "python",
   "nbconvert_exporter": "python",
   "pygments_lexer": "ipython3",
   "version": "3.8.3-final"
  },
  "orig_nbformat": 2,
  "kernelspec": {
   "name": "python38364bitdbscanconda3c063c28050f423687c8f43e10e0df7b",
   "display_name": "Python 3.8.3 64-bit ('DBScan': conda)"
  }
 },
 "nbformat": 4,
 "nbformat_minor": 2
}