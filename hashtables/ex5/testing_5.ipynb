{
 "cells": [
  {
   "cell_type": "code",
   "execution_count": 4,
   "metadata": {},
   "outputs": [
    {
     "output_type": "execute_result",
     "data": {
      "text/plain": "('/usr/local/share', '/', 'foo.txt')"
     },
     "metadata": {},
     "execution_count": 4
    }
   ],
   "source": [
    "x = \"/usr/local/share/foo.txt\"\n",
    "x.rpartition('/')"
   ]
  },
  {
   "cell_type": "code",
   "execution_count": 6,
   "metadata": {},
   "outputs": [
    {
     "output_type": "execute_result",
     "data": {
      "text/plain": "('/usr/local/share', '/', 'foo.txt')"
     },
     "metadata": {},
     "execution_count": 6
    }
   ],
   "source": [
    "z = x.rpartition('/')z"
   ]
  },
  {
   "cell_type": "code",
   "execution_count": 12,
   "metadata": {},
   "outputs": [
    {
     "output_type": "execute_result",
     "data": {
      "text/plain": "'/usr/local/share/'"
     },
     "metadata": {},
     "execution_count": 12
    }
   ],
   "source": [
    "z_2 = z[0]+z[1]\n",
    "z_2"
   ]
  },
  {
   "cell_type": "code",
   "execution_count": 10,
   "metadata": {},
   "outputs": [
    {
     "output_type": "execute_result",
     "data": {
      "text/plain": "'/usr/local/share/'"
     },
     "metadata": {},
     "execution_count": 10
    }
   ],
   "source": [
    "z[0]+z[1]"
   ]
  },
  {
   "cell_type": "code",
   "execution_count": 5,
   "metadata": {},
   "outputs": [],
   "source": [
    "def finder(files, queries):\n",
    "    \"\"\"\n",
    "    Given a list of file paths files\n",
    "    return file paths containing files in \n",
    "    list queries\n",
    "    \"\"\"\n",
    "    paths_to_files = {}\n",
    "    result = []\n",
    "    for i in files:\n",
    "        split_text = i.rpartition('/')\n",
    "        key = split_text[0]+split_text[1]\n",
    "        value = split_text[2]\n",
    "        if key not in paths_to_files:\n",
    "            paths_to_files[key] = [value]\n",
    "        else:\n",
    "            paths_to_files[key].append(value)\n",
    "    \n",
    "    for i in queries:\n",
    "        for j in paths_to_files.keys():\n",
    "            if i in paths_to_files[j]:\n",
    "                if paths_to_files[j][0] == i:\n",
    "                    result.append(j + paths_to_files[j][0])\n",
    "                elif paths_to_files[j][1] == i:\n",
    "                    result.append(j + paths_to_files[j][1])\n",
    "            \n",
    "                \n",
    "\n",
    "    return result"
   ]
  },
  {
   "cell_type": "code",
   "execution_count": 51,
   "metadata": {},
   "outputs": [],
   "source": [
    "files = [\n",
    "        '/bin/foo',\n",
    "        '/bin/bar',\n",
    "        '/usr/bin/baz'\n",
    "        ]\n",
    "queries = [\n",
    "        \"foo\",\n",
    "        \"qux\",\n",
    "        \"baz\"\n",
    "    ]\n",
    "result, paths_to_files = finder(files, queries)"
   ]
  },
  {
   "cell_type": "code",
   "execution_count": 52,
   "metadata": {},
   "outputs": [
    {
     "output_type": "execute_result",
     "data": {
      "text/plain": "['/bin/foo', '/usr/bin/baz']"
     },
     "metadata": {},
     "execution_count": 52
    }
   ],
   "source": [
    "result"
   ]
  },
  {
   "cell_type": "code",
   "execution_count": 53,
   "metadata": {},
   "outputs": [
    {
     "output_type": "execute_result",
     "data": {
      "text/plain": "{'/bin/': ['foo', 'bar'], '/usr/bin/': ['baz']}"
     },
     "metadata": {},
     "execution_count": 53
    }
   ],
   "source": [
    "paths_to_files"
   ]
  },
  {
   "cell_type": "code",
   "execution_count": 49,
   "metadata": {
    "tags": []
   },
   "outputs": [
    {
     "output_type": "stream",
     "name": "stdout",
     "text": "foo\nbaz\n"
    }
   ],
   "source": [
    "for i in queries:\n",
    "    for j in paths_to_files.keys():\n",
    "        if i in paths_to_files[j]:\n",
    "            if paths_to_files[j] == "
   ]
  },
  {
   "cell_type": "code",
   "execution_count": 35,
   "metadata": {},
   "outputs": [
    {
     "output_type": "execute_result",
     "data": {
      "text/plain": "'/bin/foo'"
     },
     "metadata": {},
     "execution_count": 35
    }
   ],
   "source": [
    "'/bin/'+paths_to_files['/bin/'][0]"
   ]
  },
  {
   "cell_type": "code",
   "execution_count": 6,
   "metadata": {},
   "outputs": [],
   "source": [
    "files = []\n",
    "\n",
    "for i in range(5000):\n",
    "    files.append(f\"/dir{i}/file{i}\")\n",
    "for i in range(5000):\n",
    "    files.append(f\"/dir{i}/dirb{i}/file{i}\")\n",
    "queries = []\n",
    "\n",
    "for i in range(10000):\n",
    "    queries.append(f\"nofile{i}\")\n",
    "queries += [\n",
    "            \"file3490\",\n",
    "            \"file256\",\n",
    "            \"file9999\",\n",
    "            \"file8192\"\n",
    "        ]\n",
    "\n",
    "result = finder(files, queries)"
   ]
  },
  {
   "cell_type": "code",
   "execution_count": 7,
   "metadata": {},
   "outputs": [
    {
     "output_type": "execute_result",
     "data": {
      "text/plain": "['/dir3490/file3490',\n '/dir3490/dirb3490/file3490',\n '/dir256/file256',\n '/dir256/dirb256/file256']"
     },
     "metadata": {},
     "execution_count": 7
    }
   ],
   "source": [
    "result"
   ]
  },
  {
   "cell_type": "code",
   "execution_count": null,
   "metadata": {},
   "outputs": [],
   "source": []
  }
 ],
 "metadata": {
  "language_info": {
   "codemirror_mode": {
    "name": "ipython",
    "version": 3
   },
   "file_extension": ".py",
   "mimetype": "text/x-python",
   "name": "python",
   "nbconvert_exporter": "python",
   "pygments_lexer": "ipython3",
   "version": "3.8.3-final"
  },
  "orig_nbformat": 2,
  "kernelspec": {
   "name": "python38364bitdbscanconda3c063c28050f423687c8f43e10e0df7b",
   "display_name": "Python 3.8.3 64-bit ('DBScan': conda)"
  }
 },
 "nbformat": 4,
 "nbformat_minor": 2
}