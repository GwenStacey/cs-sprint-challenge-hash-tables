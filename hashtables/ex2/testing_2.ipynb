{
 "cells": [
  {
   "cell_type": "code",
   "execution_count": 11,
   "metadata": {},
   "outputs": [],
   "source": [
    "#  Hint:  You may not need all of these.  Remove the unused functions.\n",
    "class Ticket:\n",
    "    def __init__(self, source, destination):\n",
    "        self.source = source\n",
    "        self.destination = destination\n",
    "\n",
    "\n",
    "def reconstruct_trip(tickets, length):\n",
    "    \"\"\"\n",
    "    YOUR CODE HERE\n",
    "    \"\"\"\n",
    "    ticket_table = {}\n",
    "    route = []\n",
    "    for i in tickets:\n",
    "        ticket_table[i.source] = i.destination\n",
    "    while len(route) < length:\n",
    "        if len(route) == 0:\n",
    "            route.append(ticket_table.get('NONE'))\n",
    "        i = len(route)-1\n",
    "        route.append(ticket_table.get(route[i]))\n",
    "        \n",
    "\n",
    "\n",
    "    return route\n"
   ]
  },
  {
   "cell_type": "code",
   "execution_count": 12,
   "metadata": {},
   "outputs": [],
   "source": [
    "ticket_1 = Ticket(\"NONE\", \"PDX\")\n",
    "ticket_2 = Ticket(\"PDX\", \"DCA\")\n",
    "ticket_3 = Ticket(\"DCA\", \"NONE\")\n",
    "\n",
    "tickets = [ticket_1, ticket_2, ticket_3]\n",
    "\n",
    "route = reconstruct_trip(tickets, 3)"
   ]
  },
  {
   "cell_type": "code",
   "execution_count": 13,
   "metadata": {},
   "outputs": [
    {
     "output_type": "execute_result",
     "data": {
      "text/plain": "['PDX', 'DCA', 'NONE']"
     },
     "metadata": {},
     "execution_count": 13
    }
   ],
   "source": [
    "route"
   ]
  },
  {
   "cell_type": "code",
   "execution_count": 19,
   "metadata": {},
   "outputs": [
    {
     "output_type": "execute_result",
     "data": {
      "text/plain": "{'NONE': 'PDX', 'PDX': 'DCA', 'DCA': 'NONE'}"
     },
     "metadata": {},
     "execution_count": 19
    }
   ],
   "source": [
    "ticket_table"
   ]
  },
  {
   "cell_type": "code",
   "execution_count": 20,
   "metadata": {
    "tags": []
   },
   "outputs": [],
   "source": [
    "another_route = []\n",
    "while len(route)<"
   ]
  },
  {
   "cell_type": "code",
   "execution_count": 21,
   "metadata": {},
   "outputs": [
    {
     "output_type": "execute_result",
     "data": {
      "text/plain": "['PDX']"
     },
     "metadata": {},
     "execution_count": 21
    }
   ],
   "source": [
    "another_route"
   ]
  },
  {
   "cell_type": "code",
   "execution_count": 14,
   "metadata": {},
   "outputs": [],
   "source": [
    "ticket_1 = Ticket(\"PIT\", \"ORD\")\n",
    "ticket_2 = Ticket(\"XNA\", \"SAP\")\n",
    "ticket_3 = Ticket(\"SFO\", \"BHM\")\n",
    "ticket_4 = Ticket(\"FLG\", \"XNA\")\n",
    "ticket_5 = Ticket(\"NONE\", \"LAX\")\n",
    "ticket_6 = Ticket(\"LAX\", \"SFO\")\n",
    "ticket_7 = Ticket(\"SAP\", \"SLC\")\n",
    "ticket_8 = Ticket(\"ORD\", \"NONE\")\n",
    "ticket_9 = Ticket(\"SLC\", \"PIT\")\n",
    "ticket_10 = Ticket(\"BHM\", \"FLG\")\n",
    "\n",
    "tickets = [ticket_1, ticket_2, ticket_3, ticket_4, ticket_5,\n",
    "                   ticket_6, ticket_7, ticket_8, ticket_9, ticket_10]\n",
    "\n",
    "expected = [\"LAX\", \"SFO\", \"BHM\", \"FLG\", \"XNA\", \"SAP\",\n",
    "             \"SLC\", \"PIT\", \"ORD\", \"NONE\"]\n",
    "result = reconstruct_trip(tickets, 10)"
   ]
  },
  {
   "cell_type": "code",
   "execution_count": 15,
   "metadata": {},
   "outputs": [
    {
     "output_type": "execute_result",
     "data": {
      "text/plain": "['LAX', 'SFO', 'BHM', 'FLG', 'XNA', 'SAP', 'SLC', 'PIT', 'ORD', 'NONE']"
     },
     "metadata": {},
     "execution_count": 15
    }
   ],
   "source": [
    "result"
   ]
  },
  {
   "cell_type": "code",
   "execution_count": 17,
   "metadata": {},
   "outputs": [],
   "source": [
    "assert(result == expected)"
   ]
  },
  {
   "cell_type": "code",
   "execution_count": null,
   "metadata": {},
   "outputs": [],
   "source": []
  }
 ],
 "metadata": {
  "language_info": {
   "codemirror_mode": {
    "name": "ipython",
    "version": 3
   },
   "file_extension": ".py",
   "mimetype": "text/x-python",
   "name": "python",
   "nbconvert_exporter": "python",
   "pygments_lexer": "ipython3",
   "version": "3.8.3-final"
  },
  "orig_nbformat": 2,
  "kernelspec": {
   "name": "python38364bitdbscanconda3c063c28050f423687c8f43e10e0df7b",
   "display_name": "Python 3.8.3 64-bit ('DBScan': conda)"
  }
 },
 "nbformat": 4,
 "nbformat_minor": 2
}